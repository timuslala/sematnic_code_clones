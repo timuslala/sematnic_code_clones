{
 "cells": [
  {
   "cell_type": "code",
   "execution_count": 7,
   "id": "02eab5b2",
   "metadata": {},
   "outputs": [
    {
     "name": "stdout",
     "output_type": "stream",
     "text": [
      "Error: Class org.h2.Driver is not found\n"
     ]
    }
   ],
   "source": [
    "# Install jaydebeapi if not already installed: pip install jaydebeapi\n",
    "\n",
    "import jaydebeapi\n",
    "\n",
    "# Path to the H2 database files\n",
    "db_path = \"C:\\\\Users\\\\timus\\\\kod\\\\sematnic_code_clones\\\\old\\\\dataset\\\\ORIGINAL_BCB\\\\bcb.h2.db\"\n",
    "\n",
    "# JDBC connection details\n",
    "jdbc_url = f\"jdbc:h2:file:{db_path}\"\n",
    "driver_class = \"org.h2.Driver\"\n",
    "driver_path = \"path/to/h2-1.x.x.jar\"  # Replace with the path to your H2 JAR file\n",
    "\n",
    "# Connect to the H2 database\n",
    "try:\n",
    "    conn = jaydebeapi.connect(driver_class, jdbc_url, [\"\", \"\"], driver_path)\n",
    "    cursor = conn.cursor()\n",
    "\n",
    "    # Example: List all tables in the database\n",
    "    cursor.execute(\"SHOW TABLES\")\n",
    "    tables = cursor.fetchall()\n",
    "    print(\"Tables in the database:\", tables)\n",
    "\n",
    "    # Example: Query data from a specific table\n",
    "    # cursor.execute(\"SELECT * FROM table_name\")\n",
    "    # rows = cursor.fetchall()\n",
    "    # print(rows)\n",
    "\n",
    "    # Close the connection\n",
    "    cursor.close()\n",
    "    conn.close()\n",
    "except Exception as e:\n",
    "    print(\"Error:\", e)"
   ]
  },
  {
   "cell_type": "code",
   "execution_count": null,
   "id": "79508004",
   "metadata": {},
   "outputs": [],
   "source": []
  }
 ],
 "metadata": {
  "kernelspec": {
   "display_name": ".venv",
   "language": "python",
   "name": "python3"
  },
  "language_info": {
   "codemirror_mode": {
    "name": "ipython",
    "version": 3
   },
   "file_extension": ".py",
   "mimetype": "text/x-python",
   "name": "python",
   "nbconvert_exporter": "python",
   "pygments_lexer": "ipython3",
   "version": "3.9.21"
  }
 },
 "nbformat": 4,
 "nbformat_minor": 5
}
